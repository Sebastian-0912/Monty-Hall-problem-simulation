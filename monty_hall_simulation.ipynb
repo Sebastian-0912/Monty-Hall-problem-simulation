{
  "cells": [
    {
      "cell_type": "code",
      "execution_count": null,
      "metadata": {
        "id": "IkGDj2ONBsnt"
      },
      "outputs": [],
      "source": [
        "import random\n",
        "import ipywidgets as widgets\n",
        "from IPython.display import display"
      ]
    },
    {
      "cell_type": "code",
      "execution_count": null,
      "metadata": {
        "id": "j8hPS0WPB2DB"
      },
      "outputs": [],
      "source": [
        "def play_monty_hall(strategy, num_games):\n",
        "    # Initialize the number of wins\n",
        "    wins = 0\n",
        "\n",
        "    for _ in range(num_games):\n",
        "        # Three cups on the table, one of them has a mark\n",
        "        cups = ['A', 'B', 'C']\n",
        "        # Randomly choose the cup with the mark\n",
        "        marked_cup = random.choice(cups)\n",
        "\n",
        "        # Player selects a cup\n",
        "        player_choice = random.choice(cups)\n",
        "\n",
        "        # Host reveals another cup without the mark\n",
        "        remaining_cups = [cup for cup in cups if cup != player_choice and cup != marked_cup]\n",
        "        revealed_cup = random.choice(remaining_cups)\n",
        "\n",
        "        # Make a choice based on the strategy\n",
        "        if strategy == 'always_switch':\n",
        "            player_choice = [cup for cup in cups if cup != player_choice and cup != revealed_cup][0]\n",
        "        elif strategy == 'never_switch':\n",
        "            pass  # Do not switch cups\n",
        "\n",
        "        # Check if the player guessed correctly\n",
        "        if player_choice == marked_cup:\n",
        "            wins += 1\n",
        "\n",
        "    return wins / num_games\n"
      ]
    },
    {
      "cell_type": "code",
      "execution_count": null,
      "metadata": {
        "colab": {
          "base_uri": "https://localhost:8080/",
          "height": 215,
          "referenced_widgets": [
            "cef06cc2c03242828d3145158b7607ff",
            "2079ca190ebe4282828998014946e405",
            "9c7601d8fe4f496987bc97fc8b6d8f2b",
            "2cac28e217ec4c8aaf9302987e305573",
            "41295096c4204374bc8801b6fc70a627",
            "7416c3c0c21d46a0a48f813fbe5ceeb4",
            "3b63eab6d6744142baffbb2f1754a3f9",
            "eb5294e5960647228d1a059570c81471",
            "f36b6bda6f444dfea389a19ae0900448",
            "18dda9b9a8784392a68e77103dbdc023",
            "186b5c5c597049e3b833d28315001518",
            "98048f3801604a91b84c43f726991357"
          ]
        },
        "id": "NamM4DsKCWK9",
        "outputId": "0e03b9eb-8e55-4edd-c1dd-5c3c02d31bbc"
      },
      "outputs": [
        {
          "data": {
            "application/vnd.jupyter.widget-view+json": {
              "model_id": "cef06cc2c03242828d3145158b7607ff",
              "version_major": 2,
              "version_minor": 0
            },
            "text/plain": [
              "Dropdown(description='策略:', options=('always_switch', 'never_switch'), value='always_switch')"
            ]
          },
          "metadata": {},
          "output_type": "display_data"
        },
        {
          "data": {
            "application/vnd.jupyter.widget-view+json": {
              "model_id": "2cac28e217ec4c8aaf9302987e305573",
              "version_major": 2,
              "version_minor": 0
            },
            "text/plain": [
              "IntText(value=10000, description='遊戲次數:')"
            ]
          },
          "metadata": {},
          "output_type": "display_data"
        },
        {
          "data": {
            "application/vnd.jupyter.widget-view+json": {
              "model_id": "3b63eab6d6744142baffbb2f1754a3f9",
              "version_major": 2,
              "version_minor": 0
            },
            "text/plain": [
              "Button(button_style='info', description='模擬遊戲', style=ButtonStyle())"
            ]
          },
          "metadata": {},
          "output_type": "display_data"
        },
        {
          "data": {
            "application/vnd.jupyter.widget-view+json": {
              "model_id": "18dda9b9a8784392a68e77103dbdc023",
              "version_major": 2,
              "version_minor": 0
            },
            "text/plain": [
              "Textarea(value='', disabled=True, layout=Layout(height='100px'))"
            ]
          },
          "metadata": {},
          "output_type": "display_data"
        }
      ],
      "source": [
        "def simulate_game(btn):\n",
        "    strategy = strategy_dropdown.value\n",
        "    num_games = int(num_games_input.value)\n",
        "    win_rate = play_monty_hall(strategy, num_games)\n",
        "    output_text.value = f'Strategy used: {strategy}, Winning rate: {win_rate:.4f}'\n",
        "\n",
        "# Create widgets\n",
        "strategy_dropdown = widgets.Dropdown(\n",
        "    options=['always_switch', 'never_switch'],\n",
        "    value='always_switch',\n",
        "    description='Strategy:'\n",
        ")\n",
        "\n",
        "num_games_input = widgets.IntText(\n",
        "    value=10000,\n",
        "    description='Number of games:'\n",
        ")\n",
        "\n",
        "simulate_button = widgets.Button(\n",
        "    description='Simulate game',\n",
        "    button_style='info'\n",
        ")\n",
        "simulate_button.on_click(simulate_game)\n",
        "\n",
        "output_text = widgets.Textarea(\n",
        "    disabled=True,\n",
        "    layout={'height': '100px'}\n",
        ")\n",
        "\n",
        "# Display widgets\n",
        "display(strategy_dropdown, num_games_input, simulate_button, output_text)\n"
      ]
    },
    {
      "cell_type": "code",
      "execution_count": null,
      "metadata": {
        "id": "8T6LYpWtD6FB"
      },
      "outputs": [],
      "source": []
    }
  ],
  "metadata": {
    "colab": {
      "provenance": []
    },
    "kernelspec": {
      "display_name": "Python 3",
      "name": "python3"
    },
    "language_info": {
      "name": "python"
    },
    "widgets": {
      "application/vnd.jupyter.widget-state+json": {
        "186b5c5c597049e3b833d28315001518": {
          "model_module": "@jupyter-widgets/base",
          "model_module_version": "1.2.0",
          "model_name": "LayoutModel",
          "state": {
            "_model_module": "@jupyter-widgets/base",
            "_model_module_version": "1.2.0",
            "_model_name": "LayoutModel",
            "_view_count": null,
            "_view_module": "@jupyter-widgets/base",
            "_view_module_version": "1.2.0",
            "_view_name": "LayoutView",
            "align_content": null,
            "align_items": null,
            "align_self": null,
            "border": null,
            "bottom": null,
            "display": null,
            "flex": null,
            "flex_flow": null,
            "grid_area": null,
            "grid_auto_columns": null,
            "grid_auto_flow": null,
            "grid_auto_rows": null,
            "grid_column": null,
            "grid_gap": null,
            "grid_row": null,
            "grid_template_areas": null,
            "grid_template_columns": null,
            "grid_template_rows": null,
            "height": "100px",
            "justify_content": null,
            "justify_items": null,
            "left": null,
            "margin": null,
            "max_height": null,
            "max_width": null,
            "min_height": null,
            "min_width": null,
            "object_fit": null,
            "object_position": null,
            "order": null,
            "overflow": null,
            "overflow_x": null,
            "overflow_y": null,
            "padding": null,
            "right": null,
            "top": null,
            "visibility": null,
            "width": null
          }
        },
        "18dda9b9a8784392a68e77103dbdc023": {
          "model_module": "@jupyter-widgets/controls",
          "model_module_version": "1.5.0",
          "model_name": "TextareaModel",
          "state": {
            "_dom_classes": [],
            "_model_module": "@jupyter-widgets/controls",
            "_model_module_version": "1.5.0",
            "_model_name": "TextareaModel",
            "_view_count": null,
            "_view_module": "@jupyter-widgets/controls",
            "_view_module_version": "1.5.0",
            "_view_name": "TextareaView",
            "continuous_update": true,
            "description": "",
            "description_tooltip": null,
            "disabled": true,
            "layout": "IPY_MODEL_186b5c5c597049e3b833d28315001518",
            "placeholder": "​",
            "rows": null,
            "style": "IPY_MODEL_98048f3801604a91b84c43f726991357",
            "value": "使用策略 never_switch 猜中的機率為 0.3200"
          }
        },
        "2079ca190ebe4282828998014946e405": {
          "model_module": "@jupyter-widgets/base",
          "model_module_version": "1.2.0",
          "model_name": "LayoutModel",
          "state": {
            "_model_module": "@jupyter-widgets/base",
            "_model_module_version": "1.2.0",
            "_model_name": "LayoutModel",
            "_view_count": null,
            "_view_module": "@jupyter-widgets/base",
            "_view_module_version": "1.2.0",
            "_view_name": "LayoutView",
            "align_content": null,
            "align_items": null,
            "align_self": null,
            "border": null,
            "bottom": null,
            "display": null,
            "flex": null,
            "flex_flow": null,
            "grid_area": null,
            "grid_auto_columns": null,
            "grid_auto_flow": null,
            "grid_auto_rows": null,
            "grid_column": null,
            "grid_gap": null,
            "grid_row": null,
            "grid_template_areas": null,
            "grid_template_columns": null,
            "grid_template_rows": null,
            "height": null,
            "justify_content": null,
            "justify_items": null,
            "left": null,
            "margin": null,
            "max_height": null,
            "max_width": null,
            "min_height": null,
            "min_width": null,
            "object_fit": null,
            "object_position": null,
            "order": null,
            "overflow": null,
            "overflow_x": null,
            "overflow_y": null,
            "padding": null,
            "right": null,
            "top": null,
            "visibility": null,
            "width": null
          }
        },
        "2cac28e217ec4c8aaf9302987e305573": {
          "model_module": "@jupyter-widgets/controls",
          "model_module_version": "1.5.0",
          "model_name": "IntTextModel",
          "state": {
            "_dom_classes": [],
            "_model_module": "@jupyter-widgets/controls",
            "_model_module_version": "1.5.0",
            "_model_name": "IntTextModel",
            "_view_count": null,
            "_view_module": "@jupyter-widgets/controls",
            "_view_module_version": "1.5.0",
            "_view_name": "IntTextView",
            "continuous_update": false,
            "description": "遊戲次數:",
            "description_tooltip": null,
            "disabled": false,
            "layout": "IPY_MODEL_41295096c4204374bc8801b6fc70a627",
            "step": 1,
            "style": "IPY_MODEL_7416c3c0c21d46a0a48f813fbe5ceeb4",
            "value": 100
          }
        },
        "3b63eab6d6744142baffbb2f1754a3f9": {
          "model_module": "@jupyter-widgets/controls",
          "model_module_version": "1.5.0",
          "model_name": "ButtonModel",
          "state": {
            "_dom_classes": [],
            "_model_module": "@jupyter-widgets/controls",
            "_model_module_version": "1.5.0",
            "_model_name": "ButtonModel",
            "_view_count": null,
            "_view_module": "@jupyter-widgets/controls",
            "_view_module_version": "1.5.0",
            "_view_name": "ButtonView",
            "button_style": "info",
            "description": "模擬遊戲",
            "disabled": false,
            "icon": "",
            "layout": "IPY_MODEL_eb5294e5960647228d1a059570c81471",
            "style": "IPY_MODEL_f36b6bda6f444dfea389a19ae0900448",
            "tooltip": ""
          }
        },
        "41295096c4204374bc8801b6fc70a627": {
          "model_module": "@jupyter-widgets/base",
          "model_module_version": "1.2.0",
          "model_name": "LayoutModel",
          "state": {
            "_model_module": "@jupyter-widgets/base",
            "_model_module_version": "1.2.0",
            "_model_name": "LayoutModel",
            "_view_count": null,
            "_view_module": "@jupyter-widgets/base",
            "_view_module_version": "1.2.0",
            "_view_name": "LayoutView",
            "align_content": null,
            "align_items": null,
            "align_self": null,
            "border": null,
            "bottom": null,
            "display": null,
            "flex": null,
            "flex_flow": null,
            "grid_area": null,
            "grid_auto_columns": null,
            "grid_auto_flow": null,
            "grid_auto_rows": null,
            "grid_column": null,
            "grid_gap": null,
            "grid_row": null,
            "grid_template_areas": null,
            "grid_template_columns": null,
            "grid_template_rows": null,
            "height": null,
            "justify_content": null,
            "justify_items": null,
            "left": null,
            "margin": null,
            "max_height": null,
            "max_width": null,
            "min_height": null,
            "min_width": null,
            "object_fit": null,
            "object_position": null,
            "order": null,
            "overflow": null,
            "overflow_x": null,
            "overflow_y": null,
            "padding": null,
            "right": null,
            "top": null,
            "visibility": null,
            "width": null
          }
        },
        "7416c3c0c21d46a0a48f813fbe5ceeb4": {
          "model_module": "@jupyter-widgets/controls",
          "model_module_version": "1.5.0",
          "model_name": "DescriptionStyleModel",
          "state": {
            "_model_module": "@jupyter-widgets/controls",
            "_model_module_version": "1.5.0",
            "_model_name": "DescriptionStyleModel",
            "_view_count": null,
            "_view_module": "@jupyter-widgets/base",
            "_view_module_version": "1.2.0",
            "_view_name": "StyleView",
            "description_width": ""
          }
        },
        "98048f3801604a91b84c43f726991357": {
          "model_module": "@jupyter-widgets/controls",
          "model_module_version": "1.5.0",
          "model_name": "DescriptionStyleModel",
          "state": {
            "_model_module": "@jupyter-widgets/controls",
            "_model_module_version": "1.5.0",
            "_model_name": "DescriptionStyleModel",
            "_view_count": null,
            "_view_module": "@jupyter-widgets/base",
            "_view_module_version": "1.2.0",
            "_view_name": "StyleView",
            "description_width": ""
          }
        },
        "9c7601d8fe4f496987bc97fc8b6d8f2b": {
          "model_module": "@jupyter-widgets/controls",
          "model_module_version": "1.5.0",
          "model_name": "DescriptionStyleModel",
          "state": {
            "_model_module": "@jupyter-widgets/controls",
            "_model_module_version": "1.5.0",
            "_model_name": "DescriptionStyleModel",
            "_view_count": null,
            "_view_module": "@jupyter-widgets/base",
            "_view_module_version": "1.2.0",
            "_view_name": "StyleView",
            "description_width": ""
          }
        },
        "cef06cc2c03242828d3145158b7607ff": {
          "model_module": "@jupyter-widgets/controls",
          "model_module_version": "1.5.0",
          "model_name": "DropdownModel",
          "state": {
            "_dom_classes": [],
            "_model_module": "@jupyter-widgets/controls",
            "_model_module_version": "1.5.0",
            "_model_name": "DropdownModel",
            "_options_labels": [
              "always_switch",
              "never_switch"
            ],
            "_view_count": null,
            "_view_module": "@jupyter-widgets/controls",
            "_view_module_version": "1.5.0",
            "_view_name": "DropdownView",
            "description": "策略:",
            "description_tooltip": null,
            "disabled": false,
            "index": 1,
            "layout": "IPY_MODEL_2079ca190ebe4282828998014946e405",
            "style": "IPY_MODEL_9c7601d8fe4f496987bc97fc8b6d8f2b"
          }
        },
        "eb5294e5960647228d1a059570c81471": {
          "model_module": "@jupyter-widgets/base",
          "model_module_version": "1.2.0",
          "model_name": "LayoutModel",
          "state": {
            "_model_module": "@jupyter-widgets/base",
            "_model_module_version": "1.2.0",
            "_model_name": "LayoutModel",
            "_view_count": null,
            "_view_module": "@jupyter-widgets/base",
            "_view_module_version": "1.2.0",
            "_view_name": "LayoutView",
            "align_content": null,
            "align_items": null,
            "align_self": null,
            "border": null,
            "bottom": null,
            "display": null,
            "flex": null,
            "flex_flow": null,
            "grid_area": null,
            "grid_auto_columns": null,
            "grid_auto_flow": null,
            "grid_auto_rows": null,
            "grid_column": null,
            "grid_gap": null,
            "grid_row": null,
            "grid_template_areas": null,
            "grid_template_columns": null,
            "grid_template_rows": null,
            "height": null,
            "justify_content": null,
            "justify_items": null,
            "left": null,
            "margin": null,
            "max_height": null,
            "max_width": null,
            "min_height": null,
            "min_width": null,
            "object_fit": null,
            "object_position": null,
            "order": null,
            "overflow": null,
            "overflow_x": null,
            "overflow_y": null,
            "padding": null,
            "right": null,
            "top": null,
            "visibility": null,
            "width": null
          }
        },
        "f36b6bda6f444dfea389a19ae0900448": {
          "model_module": "@jupyter-widgets/controls",
          "model_module_version": "1.5.0",
          "model_name": "ButtonStyleModel",
          "state": {
            "_model_module": "@jupyter-widgets/controls",
            "_model_module_version": "1.5.0",
            "_model_name": "ButtonStyleModel",
            "_view_count": null,
            "_view_module": "@jupyter-widgets/base",
            "_view_module_version": "1.2.0",
            "_view_name": "StyleView",
            "button_color": null,
            "font_weight": ""
          }
        }
      }
    }
  },
  "nbformat": 4,
  "nbformat_minor": 0
}
