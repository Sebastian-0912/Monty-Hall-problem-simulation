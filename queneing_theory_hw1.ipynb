{
  "nbformat": 4,
  "nbformat_minor": 0,
  "metadata": {
    "colab": {
      "provenance": []
    },
    "kernelspec": {
      "name": "python3",
      "display_name": "Python 3"
    },
    "language_info": {
      "name": "python"
    },
    "widgets": {
      "application/vnd.jupyter.widget-state+json": {
        "cef06cc2c03242828d3145158b7607ff": {
          "model_module": "@jupyter-widgets/controls",
          "model_name": "DropdownModel",
          "model_module_version": "1.5.0",
          "state": {
            "_dom_classes": [],
            "_model_module": "@jupyter-widgets/controls",
            "_model_module_version": "1.5.0",
            "_model_name": "DropdownModel",
            "_options_labels": [
              "always_switch",
              "never_switch"
            ],
            "_view_count": null,
            "_view_module": "@jupyter-widgets/controls",
            "_view_module_version": "1.5.0",
            "_view_name": "DropdownView",
            "description": "策略:",
            "description_tooltip": null,
            "disabled": false,
            "index": 1,
            "layout": "IPY_MODEL_2079ca190ebe4282828998014946e405",
            "style": "IPY_MODEL_9c7601d8fe4f496987bc97fc8b6d8f2b"
          }
        },
        "2079ca190ebe4282828998014946e405": {
          "model_module": "@jupyter-widgets/base",
          "model_name": "LayoutModel",
          "model_module_version": "1.2.0",
          "state": {
            "_model_module": "@jupyter-widgets/base",
            "_model_module_version": "1.2.0",
            "_model_name": "LayoutModel",
            "_view_count": null,
            "_view_module": "@jupyter-widgets/base",
            "_view_module_version": "1.2.0",
            "_view_name": "LayoutView",
            "align_content": null,
            "align_items": null,
            "align_self": null,
            "border": null,
            "bottom": null,
            "display": null,
            "flex": null,
            "flex_flow": null,
            "grid_area": null,
            "grid_auto_columns": null,
            "grid_auto_flow": null,
            "grid_auto_rows": null,
            "grid_column": null,
            "grid_gap": null,
            "grid_row": null,
            "grid_template_areas": null,
            "grid_template_columns": null,
            "grid_template_rows": null,
            "height": null,
            "justify_content": null,
            "justify_items": null,
            "left": null,
            "margin": null,
            "max_height": null,
            "max_width": null,
            "min_height": null,
            "min_width": null,
            "object_fit": null,
            "object_position": null,
            "order": null,
            "overflow": null,
            "overflow_x": null,
            "overflow_y": null,
            "padding": null,
            "right": null,
            "top": null,
            "visibility": null,
            "width": null
          }
        },
        "9c7601d8fe4f496987bc97fc8b6d8f2b": {
          "model_module": "@jupyter-widgets/controls",
          "model_name": "DescriptionStyleModel",
          "model_module_version": "1.5.0",
          "state": {
            "_model_module": "@jupyter-widgets/controls",
            "_model_module_version": "1.5.0",
            "_model_name": "DescriptionStyleModel",
            "_view_count": null,
            "_view_module": "@jupyter-widgets/base",
            "_view_module_version": "1.2.0",
            "_view_name": "StyleView",
            "description_width": ""
          }
        },
        "2cac28e217ec4c8aaf9302987e305573": {
          "model_module": "@jupyter-widgets/controls",
          "model_name": "IntTextModel",
          "model_module_version": "1.5.0",
          "state": {
            "_dom_classes": [],
            "_model_module": "@jupyter-widgets/controls",
            "_model_module_version": "1.5.0",
            "_model_name": "IntTextModel",
            "_view_count": null,
            "_view_module": "@jupyter-widgets/controls",
            "_view_module_version": "1.5.0",
            "_view_name": "IntTextView",
            "continuous_update": false,
            "description": "遊戲次數:",
            "description_tooltip": null,
            "disabled": false,
            "layout": "IPY_MODEL_41295096c4204374bc8801b6fc70a627",
            "step": 1,
            "style": "IPY_MODEL_7416c3c0c21d46a0a48f813fbe5ceeb4",
            "value": 100
          }
        },
        "41295096c4204374bc8801b6fc70a627": {
          "model_module": "@jupyter-widgets/base",
          "model_name": "LayoutModel",
          "model_module_version": "1.2.0",
          "state": {
            "_model_module": "@jupyter-widgets/base",
            "_model_module_version": "1.2.0",
            "_model_name": "LayoutModel",
            "_view_count": null,
            "_view_module": "@jupyter-widgets/base",
            "_view_module_version": "1.2.0",
            "_view_name": "LayoutView",
            "align_content": null,
            "align_items": null,
            "align_self": null,
            "border": null,
            "bottom": null,
            "display": null,
            "flex": null,
            "flex_flow": null,
            "grid_area": null,
            "grid_auto_columns": null,
            "grid_auto_flow": null,
            "grid_auto_rows": null,
            "grid_column": null,
            "grid_gap": null,
            "grid_row": null,
            "grid_template_areas": null,
            "grid_template_columns": null,
            "grid_template_rows": null,
            "height": null,
            "justify_content": null,
            "justify_items": null,
            "left": null,
            "margin": null,
            "max_height": null,
            "max_width": null,
            "min_height": null,
            "min_width": null,
            "object_fit": null,
            "object_position": null,
            "order": null,
            "overflow": null,
            "overflow_x": null,
            "overflow_y": null,
            "padding": null,
            "right": null,
            "top": null,
            "visibility": null,
            "width": null
          }
        },
        "7416c3c0c21d46a0a48f813fbe5ceeb4": {
          "model_module": "@jupyter-widgets/controls",
          "model_name": "DescriptionStyleModel",
          "model_module_version": "1.5.0",
          "state": {
            "_model_module": "@jupyter-widgets/controls",
            "_model_module_version": "1.5.0",
            "_model_name": "DescriptionStyleModel",
            "_view_count": null,
            "_view_module": "@jupyter-widgets/base",
            "_view_module_version": "1.2.0",
            "_view_name": "StyleView",
            "description_width": ""
          }
        },
        "3b63eab6d6744142baffbb2f1754a3f9": {
          "model_module": "@jupyter-widgets/controls",
          "model_name": "ButtonModel",
          "model_module_version": "1.5.0",
          "state": {
            "_dom_classes": [],
            "_model_module": "@jupyter-widgets/controls",
            "_model_module_version": "1.5.0",
            "_model_name": "ButtonModel",
            "_view_count": null,
            "_view_module": "@jupyter-widgets/controls",
            "_view_module_version": "1.5.0",
            "_view_name": "ButtonView",
            "button_style": "info",
            "description": "模擬遊戲",
            "disabled": false,
            "icon": "",
            "layout": "IPY_MODEL_eb5294e5960647228d1a059570c81471",
            "style": "IPY_MODEL_f36b6bda6f444dfea389a19ae0900448",
            "tooltip": ""
          }
        },
        "eb5294e5960647228d1a059570c81471": {
          "model_module": "@jupyter-widgets/base",
          "model_name": "LayoutModel",
          "model_module_version": "1.2.0",
          "state": {
            "_model_module": "@jupyter-widgets/base",
            "_model_module_version": "1.2.0",
            "_model_name": "LayoutModel",
            "_view_count": null,
            "_view_module": "@jupyter-widgets/base",
            "_view_module_version": "1.2.0",
            "_view_name": "LayoutView",
            "align_content": null,
            "align_items": null,
            "align_self": null,
            "border": null,
            "bottom": null,
            "display": null,
            "flex": null,
            "flex_flow": null,
            "grid_area": null,
            "grid_auto_columns": null,
            "grid_auto_flow": null,
            "grid_auto_rows": null,
            "grid_column": null,
            "grid_gap": null,
            "grid_row": null,
            "grid_template_areas": null,
            "grid_template_columns": null,
            "grid_template_rows": null,
            "height": null,
            "justify_content": null,
            "justify_items": null,
            "left": null,
            "margin": null,
            "max_height": null,
            "max_width": null,
            "min_height": null,
            "min_width": null,
            "object_fit": null,
            "object_position": null,
            "order": null,
            "overflow": null,
            "overflow_x": null,
            "overflow_y": null,
            "padding": null,
            "right": null,
            "top": null,
            "visibility": null,
            "width": null
          }
        },
        "f36b6bda6f444dfea389a19ae0900448": {
          "model_module": "@jupyter-widgets/controls",
          "model_name": "ButtonStyleModel",
          "model_module_version": "1.5.0",
          "state": {
            "_model_module": "@jupyter-widgets/controls",
            "_model_module_version": "1.5.0",
            "_model_name": "ButtonStyleModel",
            "_view_count": null,
            "_view_module": "@jupyter-widgets/base",
            "_view_module_version": "1.2.0",
            "_view_name": "StyleView",
            "button_color": null,
            "font_weight": ""
          }
        },
        "18dda9b9a8784392a68e77103dbdc023": {
          "model_module": "@jupyter-widgets/controls",
          "model_name": "TextareaModel",
          "model_module_version": "1.5.0",
          "state": {
            "_dom_classes": [],
            "_model_module": "@jupyter-widgets/controls",
            "_model_module_version": "1.5.0",
            "_model_name": "TextareaModel",
            "_view_count": null,
            "_view_module": "@jupyter-widgets/controls",
            "_view_module_version": "1.5.0",
            "_view_name": "TextareaView",
            "continuous_update": true,
            "description": "",
            "description_tooltip": null,
            "disabled": true,
            "layout": "IPY_MODEL_186b5c5c597049e3b833d28315001518",
            "placeholder": "​",
            "rows": null,
            "style": "IPY_MODEL_98048f3801604a91b84c43f726991357",
            "value": "使用策略 never_switch 猜中的機率為 0.3200"
          }
        },
        "186b5c5c597049e3b833d28315001518": {
          "model_module": "@jupyter-widgets/base",
          "model_name": "LayoutModel",
          "model_module_version": "1.2.0",
          "state": {
            "_model_module": "@jupyter-widgets/base",
            "_model_module_version": "1.2.0",
            "_model_name": "LayoutModel",
            "_view_count": null,
            "_view_module": "@jupyter-widgets/base",
            "_view_module_version": "1.2.0",
            "_view_name": "LayoutView",
            "align_content": null,
            "align_items": null,
            "align_self": null,
            "border": null,
            "bottom": null,
            "display": null,
            "flex": null,
            "flex_flow": null,
            "grid_area": null,
            "grid_auto_columns": null,
            "grid_auto_flow": null,
            "grid_auto_rows": null,
            "grid_column": null,
            "grid_gap": null,
            "grid_row": null,
            "grid_template_areas": null,
            "grid_template_columns": null,
            "grid_template_rows": null,
            "height": "100px",
            "justify_content": null,
            "justify_items": null,
            "left": null,
            "margin": null,
            "max_height": null,
            "max_width": null,
            "min_height": null,
            "min_width": null,
            "object_fit": null,
            "object_position": null,
            "order": null,
            "overflow": null,
            "overflow_x": null,
            "overflow_y": null,
            "padding": null,
            "right": null,
            "top": null,
            "visibility": null,
            "width": null
          }
        },
        "98048f3801604a91b84c43f726991357": {
          "model_module": "@jupyter-widgets/controls",
          "model_name": "DescriptionStyleModel",
          "model_module_version": "1.5.0",
          "state": {
            "_model_module": "@jupyter-widgets/controls",
            "_model_module_version": "1.5.0",
            "_model_name": "DescriptionStyleModel",
            "_view_count": null,
            "_view_module": "@jupyter-widgets/base",
            "_view_module_version": "1.2.0",
            "_view_name": "StyleView",
            "description_width": ""
          }
        }
      }
    }
  },
  "cells": [
    {
      "cell_type": "code",
      "execution_count": null,
      "metadata": {
        "id": "IkGDj2ONBsnt"
      },
      "outputs": [],
      "source": [
        "import random\n",
        "import ipywidgets as widgets\n",
        "from IPython.display import display"
      ]
    },
    {
      "cell_type": "code",
      "source": [
        "def play_monty_hall(strategy, num_games):\n",
        "    # 初始化猜中次數\n",
        "    wins = 0\n",
        "\n",
        "    for _ in range(num_games):\n",
        "        # 桌上三個杯子，其中一個有記號\n",
        "        cups = ['A', 'B', 'C']\n",
        "        # 隨機選擇有記號的杯子\n",
        "        marked_cup = random.choice(cups)\n",
        "\n",
        "        # 選手選擇一個杯子\n",
        "        player_choice = random.choice(cups)\n",
        "\n",
        "        # 莊家找到另一個沒有記號的杯子\n",
        "        remaining_cups = [cup for cup in cups if cup != player_choice and cup != marked_cup]\n",
        "        revealed_cup = random.choice(remaining_cups)\n",
        "\n",
        "        # 根據策略進行選擇\n",
        "        if strategy == 'always_switch':\n",
        "            player_choice = [cup for cup in cups if cup != player_choice and cup != revealed_cup][0]\n",
        "        elif strategy == 'never_switch':\n",
        "            pass  # 不換杯子\n",
        "\n",
        "        # 判斷是否猜中\n",
        "        if player_choice == marked_cup:\n",
        "            wins += 1\n",
        "\n",
        "    return wins / num_games\n"
      ],
      "metadata": {
        "id": "j8hPS0WPB2DB"
      },
      "execution_count": null,
      "outputs": []
    },
    {
      "cell_type": "code",
      "source": [
        "def simulate_game(btn):\n",
        "    strategy = strategy_dropdown.value\n",
        "    num_games = int(num_games_input.value)\n",
        "    win_rate = play_monty_hall(strategy, num_games)\n",
        "    output_text.value = f'使用策略 {strategy} 猜中的機率為 {win_rate:.4f}'\n",
        "\n",
        "# Create widgets\n",
        "strategy_dropdown = widgets.Dropdown(\n",
        "    options=['always_switch', 'never_switch'],\n",
        "    value='always_switch',\n",
        "    description='策略:'\n",
        ")\n",
        "\n",
        "num_games_input = widgets.IntText(\n",
        "    value=10000,\n",
        "    description='遊戲次數:'\n",
        ")\n",
        "\n",
        "simulate_button = widgets.Button(\n",
        "    description='模擬遊戲',\n",
        "    button_style='info'\n",
        ")\n",
        "simulate_button.on_click(simulate_game)\n",
        "\n",
        "output_text = widgets.Textarea(\n",
        "    disabled=True,\n",
        "    layout={'height': '100px'}\n",
        ")\n",
        "\n",
        "# Display widgets\n",
        "display(strategy_dropdown, num_games_input, simulate_button, output_text)"
      ],
      "metadata": {
        "colab": {
          "base_uri": "https://localhost:8080/",
          "height": 215,
          "referenced_widgets": [
            "cef06cc2c03242828d3145158b7607ff",
            "2079ca190ebe4282828998014946e405",
            "9c7601d8fe4f496987bc97fc8b6d8f2b",
            "2cac28e217ec4c8aaf9302987e305573",
            "41295096c4204374bc8801b6fc70a627",
            "7416c3c0c21d46a0a48f813fbe5ceeb4",
            "3b63eab6d6744142baffbb2f1754a3f9",
            "eb5294e5960647228d1a059570c81471",
            "f36b6bda6f444dfea389a19ae0900448",
            "18dda9b9a8784392a68e77103dbdc023",
            "186b5c5c597049e3b833d28315001518",
            "98048f3801604a91b84c43f726991357"
          ]
        },
        "id": "NamM4DsKCWK9",
        "outputId": "0e03b9eb-8e55-4edd-c1dd-5c3c02d31bbc"
      },
      "execution_count": null,
      "outputs": [
        {
          "output_type": "display_data",
          "data": {
            "text/plain": [
              "Dropdown(description='策略:', options=('always_switch', 'never_switch'), value='always_switch')"
            ],
            "application/vnd.jupyter.widget-view+json": {
              "version_major": 2,
              "version_minor": 0,
              "model_id": "cef06cc2c03242828d3145158b7607ff"
            }
          },
          "metadata": {}
        },
        {
          "output_type": "display_data",
          "data": {
            "text/plain": [
              "IntText(value=10000, description='遊戲次數:')"
            ],
            "application/vnd.jupyter.widget-view+json": {
              "version_major": 2,
              "version_minor": 0,
              "model_id": "2cac28e217ec4c8aaf9302987e305573"
            }
          },
          "metadata": {}
        },
        {
          "output_type": "display_data",
          "data": {
            "text/plain": [
              "Button(button_style='info', description='模擬遊戲', style=ButtonStyle())"
            ],
            "application/vnd.jupyter.widget-view+json": {
              "version_major": 2,
              "version_minor": 0,
              "model_id": "3b63eab6d6744142baffbb2f1754a3f9"
            }
          },
          "metadata": {}
        },
        {
          "output_type": "display_data",
          "data": {
            "text/plain": [
              "Textarea(value='', disabled=True, layout=Layout(height='100px'))"
            ],
            "application/vnd.jupyter.widget-view+json": {
              "version_major": 2,
              "version_minor": 0,
              "model_id": "18dda9b9a8784392a68e77103dbdc023"
            }
          },
          "metadata": {}
        }
      ]
    },
    {
      "cell_type": "code",
      "source": [],
      "metadata": {
        "id": "8T6LYpWtD6FB"
      },
      "execution_count": null,
      "outputs": []
    }
  ]
}